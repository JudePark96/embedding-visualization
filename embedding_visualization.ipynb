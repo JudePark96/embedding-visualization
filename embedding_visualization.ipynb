{
 "cells": [
  {
   "cell_type": "code",
   "execution_count": 1,
   "metadata": {},
   "outputs": [],
   "source": [
    "import torch"
   ]
  },
  {
   "cell_type": "markdown",
   "metadata": {},
   "source": [
    "## 1. Introduction"
   ]
  },
  {
   "cell_type": "code",
   "execution_count": 2,
   "metadata": {},
   "outputs": [],
   "source": [
    "gcn_embed_weights = torch.load('./embed/exhird_h_normal_gcn_word_embed_cpu.pt')\n",
    "normal_embed_weights = torch.load('./embed/exhird_h_normal_word_embed_cpu.pt')"
   ]
  },
  {
   "cell_type": "code",
   "execution_count": 3,
   "metadata": {},
   "outputs": [
    {
     "data": {
      "text/plain": [
       "(tensor([[ 0.2836, -0.1732, -0.1950,  ...,  0.0114,  0.0009, -0.1053],\n",
       "         [-0.0228,  0.0327,  0.0508,  ..., -0.0469, -0.0259, -0.0513],\n",
       "         [ 0.0008,  0.0006,  0.0141,  ..., -0.0036,  0.0088,  0.0016],\n",
       "         ...,\n",
       "         [-0.0045, -0.2020,  0.2216,  ...,  0.0792,  0.1217, -0.1207],\n",
       "         [ 0.0345, -0.1073,  0.0399,  ...,  0.0838,  0.0720, -0.0278],\n",
       "         [-0.0870, -0.0671, -0.0815,  ..., -0.0585, -0.0420, -0.0377]]),\n",
       " tensor([[ 2.6870e-01,  1.1954e-01, -1.4705e-01,  ...,  1.0425e-01,\n",
       "          -1.3967e-01,  8.2668e-02],\n",
       "         [-1.8914e-03, -8.9053e-02,  2.7039e-04,  ..., -7.5917e-02,\n",
       "           9.3523e-02, -2.6091e-02],\n",
       "         [-4.2204e-03, -5.3326e-03, -3.1465e-05,  ..., -2.5024e-03,\n",
       "          -3.1119e-04,  1.0321e-02],\n",
       "         ...,\n",
       "         [ 6.4759e-02,  2.0975e-01, -7.1785e-02,  ...,  3.7704e-04,\n",
       "          -8.7868e-02, -1.0038e-01],\n",
       "         [-7.4189e-02,  1.0728e-01, -9.2442e-03,  ...,  3.7786e-02,\n",
       "          -2.5932e-02,  1.3278e-01],\n",
       "         [ 1.6472e-01, -6.5471e-02, -2.1496e-02,  ..., -1.2377e-01,\n",
       "           1.1342e-01, -4.3021e-02]]))"
      ]
     },
     "execution_count": 3,
     "metadata": {},
     "output_type": "execute_result"
    }
   ],
   "source": [
    "gcn_embed_weights, normal_embed_weights"
   ]
  },
  {
   "cell_type": "code",
   "execution_count": 4,
   "metadata": {},
   "outputs": [],
   "source": [
    "assert gcn_embed_weights.shape == normal_embed_weights.shape"
   ]
  },
  {
   "cell_type": "code",
   "execution_count": 5,
   "metadata": {},
   "outputs": [],
   "source": [
    "import matplotlib.pyplot as plt\n",
    "import numpy as np\n",
    "from sklearn.manifold import TSNE"
   ]
  },
  {
   "cell_type": "code",
   "execution_count": 6,
   "metadata": {},
   "outputs": [],
   "source": [
    "gcn_embed_weights = gcn_embed_weights.numpy()\n",
    "normal_embed_weights = normal_embed_weights.numpy()"
   ]
  },
  {
   "cell_type": "code",
   "execution_count": null,
   "metadata": {},
   "outputs": [],
   "source": [
    "t_sne = TSNE(n_components=2, verbose=2)\n",
    "%time tsne_gcn_embed = t_sne.fit_transform(gcn_embed_weights)\n",
    "\n",
    "plt.scatter(tsne_gcn_embed[:0], tsne_gcn_embed[:1])\n",
    "plt.savefig('gcn_embed_figure.png')"
   ]
  },
  {
   "cell_type": "code",
   "execution_count": null,
   "metadata": {},
   "outputs": [],
   "source": []
  }
 ],
 "metadata": {
  "kernelspec": {
   "display_name": "Python 3",
   "language": "python",
   "name": "python3"
  },
  "language_info": {
   "codemirror_mode": {
    "name": "ipython",
    "version": 3
   },
   "file_extension": ".py",
   "mimetype": "text/x-python",
   "name": "python",
   "nbconvert_exporter": "python",
   "pygments_lexer": "ipython3",
   "version": "3.8.2"
  }
 },
 "nbformat": 4,
 "nbformat_minor": 4
}
